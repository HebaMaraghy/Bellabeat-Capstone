{
 "cells": [
  {
   "cell_type": "markdown",
   "id": "dd24cd74",
   "metadata": {
    "papermill": {
     "duration": 0.006576,
     "end_time": "2024-12-24T06:44:40.874532",
     "exception": false,
     "start_time": "2024-12-24T06:44:40.867956",
     "status": "completed"
    },
    "tags": []
   },
   "source": [
    "# Bellabeat Capestone "
   ]
  },
  {
   "cell_type": "markdown",
   "id": "f854c59d",
   "metadata": {
    "papermill": {
     "duration": 0.005181,
     "end_time": "2024-12-24T06:44:40.884766",
     "exception": false,
     "start_time": "2024-12-24T06:44:40.879585",
     "status": "completed"
    },
    "tags": []
   },
   "source": [
    "## About Bellabeat\n",
    "\n",
    "Bellabeat is a tech-driven wellness company focused on empowering women through smart devices. The company was founded by Urška Sršen and Sando Mur and has established itself as a leader in health-focused technology.\n",
    "\n",
    "**By 2016, Bellabeat had achieved the following milestones:**\n",
    " Opened offices worldwide, launched multiple products and made products available through online retailers and their e-commerce website.\n",
    "\n",
    "## Marketing Efforts\n",
    "Bellabeat emphasizes digital marketing, including active social media presence on Facebook, Instagram, and Twitter and display ads on the Google Display Network.\n",
    "\n",
    "---\n",
    "\n",
    "## Business Task\n",
    "\n",
    "Urška Sršen, Bellabeat’s Chief Creative Officer, tasked the marketing analytics team to:\n",
    "1. Analyze smart device usage data to uncover trends.\n",
    "2. Apply these insights to one of Bellabeat’s products.\n",
    "3. Recommend strategies to improve Bellabeat’s marketing efforts.\n",
    "\n",
    "## Key Questions\n",
    "- What trends are observed in smart device usage?\n",
    "- How do these trends apply to Bellabeat’s target customers?\n",
    "- How can these insights guide Bellabeat’s marketing strategies?\n",
    "\n",
    "---\n",
    "\n",
    "## Data Source\n",
    "\n",
    "The primary dataset used is the **FitBit Fitness Tracker Data**. This dataset includes data from 30 Fitbit users and contains information about physical activity, heart rate, and sleep monitoring. It offers minute-level data for detailed analysis.\n",
    "\n",
    "---\n",
    "\n",
    "## Deliverables\n",
    "\n",
    "The project deliverables include:\n",
    "\n",
    "1. A summary of the business task.\n",
    "2. Description of all data sources used.\n",
    "3. Documentation of data cleaning and transformation.\n",
    "4. Insights from the analysis.\n",
    "5. Visualizations supporting key findings.\n",
    "6. Recommendations for Bellabeat’s marketing strategy.\n"
   ]
  },
  {
   "cell_type": "markdown",
   "id": "ab643caf",
   "metadata": {
    "papermill": {
     "duration": 0.004925,
     "end_time": "2024-12-24T06:44:40.894744",
     "exception": false,
     "start_time": "2024-12-24T06:44:40.889819",
     "status": "completed"
    },
    "tags": []
   },
   "source": [
    "## Loading Packages "
   ]
  },
  {
   "cell_type": "code",
   "execution_count": 1,
   "id": "7c550cdc",
   "metadata": {
    "execution": {
     "iopub.execute_input": "2024-12-24T06:44:40.909175Z",
     "iopub.status.busy": "2024-12-24T06:44:40.906713Z",
     "iopub.status.idle": "2024-12-24T06:44:42.368916Z",
     "shell.execute_reply": "2024-12-24T06:44:42.367123Z"
    },
    "papermill": {
     "duration": 1.471705,
     "end_time": "2024-12-24T06:44:42.371394",
     "exception": false,
     "start_time": "2024-12-24T06:44:40.899689",
     "status": "completed"
    },
    "tags": []
   },
   "outputs": [
    {
     "name": "stderr",
     "output_type": "stream",
     "text": [
      "── \u001b[1mAttaching core tidyverse packages\u001b[22m ──────────────────────── tidyverse 2.0.0 ──\n",
      "\u001b[32m✔\u001b[39m \u001b[34mdplyr    \u001b[39m 1.1.4     \u001b[32m✔\u001b[39m \u001b[34mreadr    \u001b[39m 2.1.5\n",
      "\u001b[32m✔\u001b[39m \u001b[34mforcats  \u001b[39m 1.0.0     \u001b[32m✔\u001b[39m \u001b[34mstringr  \u001b[39m 1.5.1\n",
      "\u001b[32m✔\u001b[39m \u001b[34mggplot2  \u001b[39m 3.5.1     \u001b[32m✔\u001b[39m \u001b[34mtibble   \u001b[39m 3.2.1\n",
      "\u001b[32m✔\u001b[39m \u001b[34mlubridate\u001b[39m 1.9.3     \u001b[32m✔\u001b[39m \u001b[34mtidyr    \u001b[39m 1.3.1\n",
      "\u001b[32m✔\u001b[39m \u001b[34mpurrr    \u001b[39m 1.0.2     \n"
     ]
    },
    {
     "name": "stderr",
     "output_type": "stream",
     "text": [
      "── \u001b[1mConflicts\u001b[22m ────────────────────────────────────────── tidyverse_conflicts() ──\n",
      "\u001b[31m✖\u001b[39m \u001b[34mdplyr\u001b[39m::\u001b[32mfilter()\u001b[39m masks \u001b[34mstats\u001b[39m::filter()\n",
      "\u001b[31m✖\u001b[39m \u001b[34mdplyr\u001b[39m::\u001b[32mlag()\u001b[39m    masks \u001b[34mstats\u001b[39m::lag()\n",
      "\u001b[36mℹ\u001b[39m Use the conflicted package (\u001b[3m\u001b[34m<http://conflicted.r-lib.org/>\u001b[39m\u001b[23m) to force all conflicts to become errors\n"
     ]
    }
   ],
   "source": [
    "library(tidyverse)\n",
    "library(lubridate)\n",
    "library(dplyr)\n",
    "library(ggplot2)\n",
    "library(tidyr)\n",
    "library(conflicted) # I used this package because some functions in the dplyr were confilcted with tidyverse"
   ]
  },
  {
   "cell_type": "markdown",
   "id": "ef07aaf8",
   "metadata": {
    "papermill": {
     "duration": 0.005137,
     "end_time": "2024-12-24T06:44:42.381837",
     "exception": false,
     "start_time": "2024-12-24T06:44:42.376700",
     "status": "completed"
    },
    "tags": []
   },
   "source": [
    "## Importing Datasets "
   ]
  },
  {
   "cell_type": "code",
   "execution_count": 2,
   "id": "aeb544be",
   "metadata": {
    "execution": {
     "iopub.execute_input": "2024-12-24T06:44:42.425587Z",
     "iopub.status.busy": "2024-12-24T06:44:42.394189Z",
     "iopub.status.idle": "2024-12-24T06:44:49.852619Z",
     "shell.execute_reply": "2024-12-24T06:44:49.850799Z"
    },
    "papermill": {
     "duration": 7.46858,
     "end_time": "2024-12-24T06:44:49.855504",
     "exception": false,
     "start_time": "2024-12-24T06:44:42.386924",
     "status": "completed"
    },
    "tags": []
   },
   "outputs": [],
   "source": [
    "activity <- read.csv(\"/kaggle/input/fitbit/mturkfitbit_export_4.12.16-5.12.16/Fitabase Data 4.12.16-5.12.16/dailyActivity_merged.csv\")\n",
    "calories <- read.csv(\"/kaggle/input/fitbit/mturkfitbit_export_4.12.16-5.12.16/Fitabase Data 4.12.16-5.12.16/hourlyCalories_merged.csv\")\n",
    "intensities <- read.csv(\"/kaggle/input/fitbit/mturkfitbit_export_4.12.16-5.12.16/Fitabase Data 4.12.16-5.12.16/hourlyIntensities_merged.csv\")\n",
    "sleep <- read.csv(\"/kaggle/input/fitbit/mturkfitbit_export_4.12.16-5.12.16/Fitabase Data 4.12.16-5.12.16/sleepDay_merged.csv\")\n",
    "heartrate <- read.csv(\"/kaggle/input/fitbit/mturkfitbit_export_4.12.16-5.12.16/Fitabase Data 4.12.16-5.12.16/heartrate_seconds_merged.csv\")"
   ]
  },
  {
   "cell_type": "markdown",
   "id": "8446811d",
   "metadata": {
    "papermill": {
     "duration": 0.005349,
     "end_time": "2024-12-24T06:44:49.866257",
     "exception": false,
     "start_time": "2024-12-24T06:44:49.860908",
     "status": "completed"
    },
    "tags": []
   },
   "source": [
    "#### after importing the data i need to double check them, i checked them 1st on excel, and now using the head() and str() function to make sure that the data is consistent  "
   ]
  },
  {
   "cell_type": "code",
   "execution_count": 3,
   "id": "5afede22",
   "metadata": {
    "execution": {
     "iopub.execute_input": "2024-12-24T06:44:49.880570Z",
     "iopub.status.busy": "2024-12-24T06:44:49.878882Z",
     "iopub.status.idle": "2024-12-24T06:44:49.966642Z",
     "shell.execute_reply": "2024-12-24T06:44:49.964796Z"
    },
    "papermill": {
     "duration": 0.097638,
     "end_time": "2024-12-24T06:44:49.969231",
     "exception": false,
     "start_time": "2024-12-24T06:44:49.871593",
     "status": "completed"
    },
    "tags": []
   },
   "outputs": [
    {
     "data": {
      "text/html": [
       "<table class=\"dataframe\">\n",
       "<caption>A data.frame: 6 × 15</caption>\n",
       "<thead>\n",
       "\t<tr><th></th><th scope=col>Id</th><th scope=col>ActivityDate</th><th scope=col>TotalSteps</th><th scope=col>TotalDistance</th><th scope=col>TrackerDistance</th><th scope=col>LoggedActivitiesDistance</th><th scope=col>VeryActiveDistance</th><th scope=col>ModeratelyActiveDistance</th><th scope=col>LightActiveDistance</th><th scope=col>SedentaryActiveDistance</th><th scope=col>VeryActiveMinutes</th><th scope=col>FairlyActiveMinutes</th><th scope=col>LightlyActiveMinutes</th><th scope=col>SedentaryMinutes</th><th scope=col>Calories</th></tr>\n",
       "\t<tr><th></th><th scope=col>&lt;dbl&gt;</th><th scope=col>&lt;chr&gt;</th><th scope=col>&lt;int&gt;</th><th scope=col>&lt;dbl&gt;</th><th scope=col>&lt;dbl&gt;</th><th scope=col>&lt;dbl&gt;</th><th scope=col>&lt;dbl&gt;</th><th scope=col>&lt;dbl&gt;</th><th scope=col>&lt;dbl&gt;</th><th scope=col>&lt;dbl&gt;</th><th scope=col>&lt;int&gt;</th><th scope=col>&lt;int&gt;</th><th scope=col>&lt;int&gt;</th><th scope=col>&lt;int&gt;</th><th scope=col>&lt;int&gt;</th></tr>\n",
       "</thead>\n",
       "<tbody>\n",
       "\t<tr><th scope=row>1</th><td>1503960366</td><td>4/12/2016</td><td>13162</td><td>8.50</td><td>8.50</td><td>0</td><td>1.88</td><td>0.55</td><td>6.06</td><td>0</td><td>25</td><td>13</td><td>328</td><td> 728</td><td>1985</td></tr>\n",
       "\t<tr><th scope=row>2</th><td>1503960366</td><td>4/13/2016</td><td>10735</td><td>6.97</td><td>6.97</td><td>0</td><td>1.57</td><td>0.69</td><td>4.71</td><td>0</td><td>21</td><td>19</td><td>217</td><td> 776</td><td>1797</td></tr>\n",
       "\t<tr><th scope=row>3</th><td>1503960366</td><td>4/14/2016</td><td>10460</td><td>6.74</td><td>6.74</td><td>0</td><td>2.44</td><td>0.40</td><td>3.91</td><td>0</td><td>30</td><td>11</td><td>181</td><td>1218</td><td>1776</td></tr>\n",
       "\t<tr><th scope=row>4</th><td>1503960366</td><td>4/15/2016</td><td> 9762</td><td>6.28</td><td>6.28</td><td>0</td><td>2.14</td><td>1.26</td><td>2.83</td><td>0</td><td>29</td><td>34</td><td>209</td><td> 726</td><td>1745</td></tr>\n",
       "\t<tr><th scope=row>5</th><td>1503960366</td><td>4/16/2016</td><td>12669</td><td>8.16</td><td>8.16</td><td>0</td><td>2.71</td><td>0.41</td><td>5.04</td><td>0</td><td>36</td><td>10</td><td>221</td><td> 773</td><td>1863</td></tr>\n",
       "\t<tr><th scope=row>6</th><td>1503960366</td><td>4/17/2016</td><td> 9705</td><td>6.48</td><td>6.48</td><td>0</td><td>3.19</td><td>0.78</td><td>2.51</td><td>0</td><td>38</td><td>20</td><td>164</td><td> 539</td><td>1728</td></tr>\n",
       "</tbody>\n",
       "</table>\n"
      ],
      "text/latex": [
       "A data.frame: 6 × 15\n",
       "\\begin{tabular}{r|lllllllllllllll}\n",
       "  & Id & ActivityDate & TotalSteps & TotalDistance & TrackerDistance & LoggedActivitiesDistance & VeryActiveDistance & ModeratelyActiveDistance & LightActiveDistance & SedentaryActiveDistance & VeryActiveMinutes & FairlyActiveMinutes & LightlyActiveMinutes & SedentaryMinutes & Calories\\\\\n",
       "  & <dbl> & <chr> & <int> & <dbl> & <dbl> & <dbl> & <dbl> & <dbl> & <dbl> & <dbl> & <int> & <int> & <int> & <int> & <int>\\\\\n",
       "\\hline\n",
       "\t1 & 1503960366 & 4/12/2016 & 13162 & 8.50 & 8.50 & 0 & 1.88 & 0.55 & 6.06 & 0 & 25 & 13 & 328 &  728 & 1985\\\\\n",
       "\t2 & 1503960366 & 4/13/2016 & 10735 & 6.97 & 6.97 & 0 & 1.57 & 0.69 & 4.71 & 0 & 21 & 19 & 217 &  776 & 1797\\\\\n",
       "\t3 & 1503960366 & 4/14/2016 & 10460 & 6.74 & 6.74 & 0 & 2.44 & 0.40 & 3.91 & 0 & 30 & 11 & 181 & 1218 & 1776\\\\\n",
       "\t4 & 1503960366 & 4/15/2016 &  9762 & 6.28 & 6.28 & 0 & 2.14 & 1.26 & 2.83 & 0 & 29 & 34 & 209 &  726 & 1745\\\\\n",
       "\t5 & 1503960366 & 4/16/2016 & 12669 & 8.16 & 8.16 & 0 & 2.71 & 0.41 & 5.04 & 0 & 36 & 10 & 221 &  773 & 1863\\\\\n",
       "\t6 & 1503960366 & 4/17/2016 &  9705 & 6.48 & 6.48 & 0 & 3.19 & 0.78 & 2.51 & 0 & 38 & 20 & 164 &  539 & 1728\\\\\n",
       "\\end{tabular}\n"
      ],
      "text/markdown": [
       "\n",
       "A data.frame: 6 × 15\n",
       "\n",
       "| <!--/--> | Id &lt;dbl&gt; | ActivityDate &lt;chr&gt; | TotalSteps &lt;int&gt; | TotalDistance &lt;dbl&gt; | TrackerDistance &lt;dbl&gt; | LoggedActivitiesDistance &lt;dbl&gt; | VeryActiveDistance &lt;dbl&gt; | ModeratelyActiveDistance &lt;dbl&gt; | LightActiveDistance &lt;dbl&gt; | SedentaryActiveDistance &lt;dbl&gt; | VeryActiveMinutes &lt;int&gt; | FairlyActiveMinutes &lt;int&gt; | LightlyActiveMinutes &lt;int&gt; | SedentaryMinutes &lt;int&gt; | Calories &lt;int&gt; |\n",
       "|---|---|---|---|---|---|---|---|---|---|---|---|---|---|---|---|\n",
       "| 1 | 1503960366 | 4/12/2016 | 13162 | 8.50 | 8.50 | 0 | 1.88 | 0.55 | 6.06 | 0 | 25 | 13 | 328 |  728 | 1985 |\n",
       "| 2 | 1503960366 | 4/13/2016 | 10735 | 6.97 | 6.97 | 0 | 1.57 | 0.69 | 4.71 | 0 | 21 | 19 | 217 |  776 | 1797 |\n",
       "| 3 | 1503960366 | 4/14/2016 | 10460 | 6.74 | 6.74 | 0 | 2.44 | 0.40 | 3.91 | 0 | 30 | 11 | 181 | 1218 | 1776 |\n",
       "| 4 | 1503960366 | 4/15/2016 |  9762 | 6.28 | 6.28 | 0 | 2.14 | 1.26 | 2.83 | 0 | 29 | 34 | 209 |  726 | 1745 |\n",
       "| 5 | 1503960366 | 4/16/2016 | 12669 | 8.16 | 8.16 | 0 | 2.71 | 0.41 | 5.04 | 0 | 36 | 10 | 221 |  773 | 1863 |\n",
       "| 6 | 1503960366 | 4/17/2016 |  9705 | 6.48 | 6.48 | 0 | 3.19 | 0.78 | 2.51 | 0 | 38 | 20 | 164 |  539 | 1728 |\n",
       "\n"
      ],
      "text/plain": [
       "  Id         ActivityDate TotalSteps TotalDistance TrackerDistance\n",
       "1 1503960366 4/12/2016    13162      8.50          8.50           \n",
       "2 1503960366 4/13/2016    10735      6.97          6.97           \n",
       "3 1503960366 4/14/2016    10460      6.74          6.74           \n",
       "4 1503960366 4/15/2016     9762      6.28          6.28           \n",
       "5 1503960366 4/16/2016    12669      8.16          8.16           \n",
       "6 1503960366 4/17/2016     9705      6.48          6.48           \n",
       "  LoggedActivitiesDistance VeryActiveDistance ModeratelyActiveDistance\n",
       "1 0                        1.88               0.55                    \n",
       "2 0                        1.57               0.69                    \n",
       "3 0                        2.44               0.40                    \n",
       "4 0                        2.14               1.26                    \n",
       "5 0                        2.71               0.41                    \n",
       "6 0                        3.19               0.78                    \n",
       "  LightActiveDistance SedentaryActiveDistance VeryActiveMinutes\n",
       "1 6.06                0                       25               \n",
       "2 4.71                0                       21               \n",
       "3 3.91                0                       30               \n",
       "4 2.83                0                       29               \n",
       "5 5.04                0                       36               \n",
       "6 2.51                0                       38               \n",
       "  FairlyActiveMinutes LightlyActiveMinutes SedentaryMinutes Calories\n",
       "1 13                  328                   728             1985    \n",
       "2 19                  217                   776             1797    \n",
       "3 11                  181                  1218             1776    \n",
       "4 34                  209                   726             1745    \n",
       "5 10                  221                   773             1863    \n",
       "6 20                  164                   539             1728    "
      ]
     },
     "metadata": {},
     "output_type": "display_data"
    },
    {
     "data": {
      "text/html": [
       "<table class=\"dataframe\">\n",
       "<caption>A data.frame: 6 × 3</caption>\n",
       "<thead>\n",
       "\t<tr><th></th><th scope=col>Id</th><th scope=col>ActivityHour</th><th scope=col>Calories</th></tr>\n",
       "\t<tr><th></th><th scope=col>&lt;dbl&gt;</th><th scope=col>&lt;chr&gt;</th><th scope=col>&lt;int&gt;</th></tr>\n",
       "</thead>\n",
       "<tbody>\n",
       "\t<tr><th scope=row>1</th><td>1503960366</td><td>4/12/2016 12:00:00 AM</td><td>81</td></tr>\n",
       "\t<tr><th scope=row>2</th><td>1503960366</td><td>4/12/2016 1:00:00 AM </td><td>61</td></tr>\n",
       "\t<tr><th scope=row>3</th><td>1503960366</td><td>4/12/2016 2:00:00 AM </td><td>59</td></tr>\n",
       "\t<tr><th scope=row>4</th><td>1503960366</td><td>4/12/2016 3:00:00 AM </td><td>47</td></tr>\n",
       "\t<tr><th scope=row>5</th><td>1503960366</td><td>4/12/2016 4:00:00 AM </td><td>48</td></tr>\n",
       "\t<tr><th scope=row>6</th><td>1503960366</td><td>4/12/2016 5:00:00 AM </td><td>48</td></tr>\n",
       "</tbody>\n",
       "</table>\n"
      ],
      "text/latex": [
       "A data.frame: 6 × 3\n",
       "\\begin{tabular}{r|lll}\n",
       "  & Id & ActivityHour & Calories\\\\\n",
       "  & <dbl> & <chr> & <int>\\\\\n",
       "\\hline\n",
       "\t1 & 1503960366 & 4/12/2016 12:00:00 AM & 81\\\\\n",
       "\t2 & 1503960366 & 4/12/2016 1:00:00 AM  & 61\\\\\n",
       "\t3 & 1503960366 & 4/12/2016 2:00:00 AM  & 59\\\\\n",
       "\t4 & 1503960366 & 4/12/2016 3:00:00 AM  & 47\\\\\n",
       "\t5 & 1503960366 & 4/12/2016 4:00:00 AM  & 48\\\\\n",
       "\t6 & 1503960366 & 4/12/2016 5:00:00 AM  & 48\\\\\n",
       "\\end{tabular}\n"
      ],
      "text/markdown": [
       "\n",
       "A data.frame: 6 × 3\n",
       "\n",
       "| <!--/--> | Id &lt;dbl&gt; | ActivityHour &lt;chr&gt; | Calories &lt;int&gt; |\n",
       "|---|---|---|---|\n",
       "| 1 | 1503960366 | 4/12/2016 12:00:00 AM | 81 |\n",
       "| 2 | 1503960366 | 4/12/2016 1:00:00 AM  | 61 |\n",
       "| 3 | 1503960366 | 4/12/2016 2:00:00 AM  | 59 |\n",
       "| 4 | 1503960366 | 4/12/2016 3:00:00 AM  | 47 |\n",
       "| 5 | 1503960366 | 4/12/2016 4:00:00 AM  | 48 |\n",
       "| 6 | 1503960366 | 4/12/2016 5:00:00 AM  | 48 |\n",
       "\n"
      ],
      "text/plain": [
       "  Id         ActivityHour          Calories\n",
       "1 1503960366 4/12/2016 12:00:00 AM 81      \n",
       "2 1503960366 4/12/2016 1:00:00 AM  61      \n",
       "3 1503960366 4/12/2016 2:00:00 AM  59      \n",
       "4 1503960366 4/12/2016 3:00:00 AM  47      \n",
       "5 1503960366 4/12/2016 4:00:00 AM  48      \n",
       "6 1503960366 4/12/2016 5:00:00 AM  48      "
      ]
     },
     "metadata": {},
     "output_type": "display_data"
    },
    {
     "data": {
      "text/html": [
       "<table class=\"dataframe\">\n",
       "<caption>A data.frame: 6 × 4</caption>\n",
       "<thead>\n",
       "\t<tr><th></th><th scope=col>Id</th><th scope=col>ActivityHour</th><th scope=col>TotalIntensity</th><th scope=col>AverageIntensity</th></tr>\n",
       "\t<tr><th></th><th scope=col>&lt;dbl&gt;</th><th scope=col>&lt;chr&gt;</th><th scope=col>&lt;int&gt;</th><th scope=col>&lt;dbl&gt;</th></tr>\n",
       "</thead>\n",
       "<tbody>\n",
       "\t<tr><th scope=row>1</th><td>1503960366</td><td>4/12/2016 12:00:00 AM</td><td>20</td><td>0.333333</td></tr>\n",
       "\t<tr><th scope=row>2</th><td>1503960366</td><td>4/12/2016 1:00:00 AM </td><td> 8</td><td>0.133333</td></tr>\n",
       "\t<tr><th scope=row>3</th><td>1503960366</td><td>4/12/2016 2:00:00 AM </td><td> 7</td><td>0.116667</td></tr>\n",
       "\t<tr><th scope=row>4</th><td>1503960366</td><td>4/12/2016 3:00:00 AM </td><td> 0</td><td>0.000000</td></tr>\n",
       "\t<tr><th scope=row>5</th><td>1503960366</td><td>4/12/2016 4:00:00 AM </td><td> 0</td><td>0.000000</td></tr>\n",
       "\t<tr><th scope=row>6</th><td>1503960366</td><td>4/12/2016 5:00:00 AM </td><td> 0</td><td>0.000000</td></tr>\n",
       "</tbody>\n",
       "</table>\n"
      ],
      "text/latex": [
       "A data.frame: 6 × 4\n",
       "\\begin{tabular}{r|llll}\n",
       "  & Id & ActivityHour & TotalIntensity & AverageIntensity\\\\\n",
       "  & <dbl> & <chr> & <int> & <dbl>\\\\\n",
       "\\hline\n",
       "\t1 & 1503960366 & 4/12/2016 12:00:00 AM & 20 & 0.333333\\\\\n",
       "\t2 & 1503960366 & 4/12/2016 1:00:00 AM  &  8 & 0.133333\\\\\n",
       "\t3 & 1503960366 & 4/12/2016 2:00:00 AM  &  7 & 0.116667\\\\\n",
       "\t4 & 1503960366 & 4/12/2016 3:00:00 AM  &  0 & 0.000000\\\\\n",
       "\t5 & 1503960366 & 4/12/2016 4:00:00 AM  &  0 & 0.000000\\\\\n",
       "\t6 & 1503960366 & 4/12/2016 5:00:00 AM  &  0 & 0.000000\\\\\n",
       "\\end{tabular}\n"
      ],
      "text/markdown": [
       "\n",
       "A data.frame: 6 × 4\n",
       "\n",
       "| <!--/--> | Id &lt;dbl&gt; | ActivityHour &lt;chr&gt; | TotalIntensity &lt;int&gt; | AverageIntensity &lt;dbl&gt; |\n",
       "|---|---|---|---|---|\n",
       "| 1 | 1503960366 | 4/12/2016 12:00:00 AM | 20 | 0.333333 |\n",
       "| 2 | 1503960366 | 4/12/2016 1:00:00 AM  |  8 | 0.133333 |\n",
       "| 3 | 1503960366 | 4/12/2016 2:00:00 AM  |  7 | 0.116667 |\n",
       "| 4 | 1503960366 | 4/12/2016 3:00:00 AM  |  0 | 0.000000 |\n",
       "| 5 | 1503960366 | 4/12/2016 4:00:00 AM  |  0 | 0.000000 |\n",
       "| 6 | 1503960366 | 4/12/2016 5:00:00 AM  |  0 | 0.000000 |\n",
       "\n"
      ],
      "text/plain": [
       "  Id         ActivityHour          TotalIntensity AverageIntensity\n",
       "1 1503960366 4/12/2016 12:00:00 AM 20             0.333333        \n",
       "2 1503960366 4/12/2016 1:00:00 AM   8             0.133333        \n",
       "3 1503960366 4/12/2016 2:00:00 AM   7             0.116667        \n",
       "4 1503960366 4/12/2016 3:00:00 AM   0             0.000000        \n",
       "5 1503960366 4/12/2016 4:00:00 AM   0             0.000000        \n",
       "6 1503960366 4/12/2016 5:00:00 AM   0             0.000000        "
      ]
     },
     "metadata": {},
     "output_type": "display_data"
    },
    {
     "data": {
      "text/html": [
       "<table class=\"dataframe\">\n",
       "<caption>A data.frame: 6 × 5</caption>\n",
       "<thead>\n",
       "\t<tr><th></th><th scope=col>Id</th><th scope=col>SleepDay</th><th scope=col>TotalSleepRecords</th><th scope=col>TotalMinutesAsleep</th><th scope=col>TotalTimeInBed</th></tr>\n",
       "\t<tr><th></th><th scope=col>&lt;dbl&gt;</th><th scope=col>&lt;chr&gt;</th><th scope=col>&lt;int&gt;</th><th scope=col>&lt;int&gt;</th><th scope=col>&lt;int&gt;</th></tr>\n",
       "</thead>\n",
       "<tbody>\n",
       "\t<tr><th scope=row>1</th><td>1503960366</td><td>4/12/2016 12:00:00 AM</td><td>1</td><td>327</td><td>346</td></tr>\n",
       "\t<tr><th scope=row>2</th><td>1503960366</td><td>4/13/2016 12:00:00 AM</td><td>2</td><td>384</td><td>407</td></tr>\n",
       "\t<tr><th scope=row>3</th><td>1503960366</td><td>4/15/2016 12:00:00 AM</td><td>1</td><td>412</td><td>442</td></tr>\n",
       "\t<tr><th scope=row>4</th><td>1503960366</td><td>4/16/2016 12:00:00 AM</td><td>2</td><td>340</td><td>367</td></tr>\n",
       "\t<tr><th scope=row>5</th><td>1503960366</td><td>4/17/2016 12:00:00 AM</td><td>1</td><td>700</td><td>712</td></tr>\n",
       "\t<tr><th scope=row>6</th><td>1503960366</td><td>4/19/2016 12:00:00 AM</td><td>1</td><td>304</td><td>320</td></tr>\n",
       "</tbody>\n",
       "</table>\n"
      ],
      "text/latex": [
       "A data.frame: 6 × 5\n",
       "\\begin{tabular}{r|lllll}\n",
       "  & Id & SleepDay & TotalSleepRecords & TotalMinutesAsleep & TotalTimeInBed\\\\\n",
       "  & <dbl> & <chr> & <int> & <int> & <int>\\\\\n",
       "\\hline\n",
       "\t1 & 1503960366 & 4/12/2016 12:00:00 AM & 1 & 327 & 346\\\\\n",
       "\t2 & 1503960366 & 4/13/2016 12:00:00 AM & 2 & 384 & 407\\\\\n",
       "\t3 & 1503960366 & 4/15/2016 12:00:00 AM & 1 & 412 & 442\\\\\n",
       "\t4 & 1503960366 & 4/16/2016 12:00:00 AM & 2 & 340 & 367\\\\\n",
       "\t5 & 1503960366 & 4/17/2016 12:00:00 AM & 1 & 700 & 712\\\\\n",
       "\t6 & 1503960366 & 4/19/2016 12:00:00 AM & 1 & 304 & 320\\\\\n",
       "\\end{tabular}\n"
      ],
      "text/markdown": [
       "\n",
       "A data.frame: 6 × 5\n",
       "\n",
       "| <!--/--> | Id &lt;dbl&gt; | SleepDay &lt;chr&gt; | TotalSleepRecords &lt;int&gt; | TotalMinutesAsleep &lt;int&gt; | TotalTimeInBed &lt;int&gt; |\n",
       "|---|---|---|---|---|---|\n",
       "| 1 | 1503960366 | 4/12/2016 12:00:00 AM | 1 | 327 | 346 |\n",
       "| 2 | 1503960366 | 4/13/2016 12:00:00 AM | 2 | 384 | 407 |\n",
       "| 3 | 1503960366 | 4/15/2016 12:00:00 AM | 1 | 412 | 442 |\n",
       "| 4 | 1503960366 | 4/16/2016 12:00:00 AM | 2 | 340 | 367 |\n",
       "| 5 | 1503960366 | 4/17/2016 12:00:00 AM | 1 | 700 | 712 |\n",
       "| 6 | 1503960366 | 4/19/2016 12:00:00 AM | 1 | 304 | 320 |\n",
       "\n"
      ],
      "text/plain": [
       "  Id         SleepDay              TotalSleepRecords TotalMinutesAsleep\n",
       "1 1503960366 4/12/2016 12:00:00 AM 1                 327               \n",
       "2 1503960366 4/13/2016 12:00:00 AM 2                 384               \n",
       "3 1503960366 4/15/2016 12:00:00 AM 1                 412               \n",
       "4 1503960366 4/16/2016 12:00:00 AM 2                 340               \n",
       "5 1503960366 4/17/2016 12:00:00 AM 1                 700               \n",
       "6 1503960366 4/19/2016 12:00:00 AM 1                 304               \n",
       "  TotalTimeInBed\n",
       "1 346           \n",
       "2 407           \n",
       "3 442           \n",
       "4 367           \n",
       "5 712           \n",
       "6 320           "
      ]
     },
     "metadata": {},
     "output_type": "display_data"
    },
    {
     "data": {
      "text/html": [
       "<table class=\"dataframe\">\n",
       "<caption>A data.frame: 6 × 3</caption>\n",
       "<thead>\n",
       "\t<tr><th></th><th scope=col>Id</th><th scope=col>Time</th><th scope=col>Value</th></tr>\n",
       "\t<tr><th></th><th scope=col>&lt;dbl&gt;</th><th scope=col>&lt;chr&gt;</th><th scope=col>&lt;int&gt;</th></tr>\n",
       "</thead>\n",
       "<tbody>\n",
       "\t<tr><th scope=row>1</th><td>2022484408</td><td>4/12/2016 7:21:00 AM</td><td> 97</td></tr>\n",
       "\t<tr><th scope=row>2</th><td>2022484408</td><td>4/12/2016 7:21:05 AM</td><td>102</td></tr>\n",
       "\t<tr><th scope=row>3</th><td>2022484408</td><td>4/12/2016 7:21:10 AM</td><td>105</td></tr>\n",
       "\t<tr><th scope=row>4</th><td>2022484408</td><td>4/12/2016 7:21:20 AM</td><td>103</td></tr>\n",
       "\t<tr><th scope=row>5</th><td>2022484408</td><td>4/12/2016 7:21:25 AM</td><td>101</td></tr>\n",
       "\t<tr><th scope=row>6</th><td>2022484408</td><td>4/12/2016 7:22:05 AM</td><td> 95</td></tr>\n",
       "</tbody>\n",
       "</table>\n"
      ],
      "text/latex": [
       "A data.frame: 6 × 3\n",
       "\\begin{tabular}{r|lll}\n",
       "  & Id & Time & Value\\\\\n",
       "  & <dbl> & <chr> & <int>\\\\\n",
       "\\hline\n",
       "\t1 & 2022484408 & 4/12/2016 7:21:00 AM &  97\\\\\n",
       "\t2 & 2022484408 & 4/12/2016 7:21:05 AM & 102\\\\\n",
       "\t3 & 2022484408 & 4/12/2016 7:21:10 AM & 105\\\\\n",
       "\t4 & 2022484408 & 4/12/2016 7:21:20 AM & 103\\\\\n",
       "\t5 & 2022484408 & 4/12/2016 7:21:25 AM & 101\\\\\n",
       "\t6 & 2022484408 & 4/12/2016 7:22:05 AM &  95\\\\\n",
       "\\end{tabular}\n"
      ],
      "text/markdown": [
       "\n",
       "A data.frame: 6 × 3\n",
       "\n",
       "| <!--/--> | Id &lt;dbl&gt; | Time &lt;chr&gt; | Value &lt;int&gt; |\n",
       "|---|---|---|---|\n",
       "| 1 | 2022484408 | 4/12/2016 7:21:00 AM |  97 |\n",
       "| 2 | 2022484408 | 4/12/2016 7:21:05 AM | 102 |\n",
       "| 3 | 2022484408 | 4/12/2016 7:21:10 AM | 105 |\n",
       "| 4 | 2022484408 | 4/12/2016 7:21:20 AM | 103 |\n",
       "| 5 | 2022484408 | 4/12/2016 7:21:25 AM | 101 |\n",
       "| 6 | 2022484408 | 4/12/2016 7:22:05 AM |  95 |\n",
       "\n"
      ],
      "text/plain": [
       "  Id         Time                 Value\n",
       "1 2022484408 4/12/2016 7:21:00 AM  97  \n",
       "2 2022484408 4/12/2016 7:21:05 AM 102  \n",
       "3 2022484408 4/12/2016 7:21:10 AM 105  \n",
       "4 2022484408 4/12/2016 7:21:20 AM 103  \n",
       "5 2022484408 4/12/2016 7:21:25 AM 101  \n",
       "6 2022484408 4/12/2016 7:22:05 AM  95  "
      ]
     },
     "metadata": {},
     "output_type": "display_data"
    }
   ],
   "source": [
    "head(activity)\n",
    "head(calories)\n",
    "head(intensities)\n",
    "head(sleep)\n",
    "head(heartrate)"
   ]
  },
  {
   "cell_type": "code",
   "execution_count": 4,
   "id": "86194ea6",
   "metadata": {
    "execution": {
     "iopub.execute_input": "2024-12-24T06:44:49.985672Z",
     "iopub.status.busy": "2024-12-24T06:44:49.984059Z",
     "iopub.status.idle": "2024-12-24T06:44:50.051521Z",
     "shell.execute_reply": "2024-12-24T06:44:50.049183Z"
    },
    "papermill": {
     "duration": 0.078867,
     "end_time": "2024-12-24T06:44:50.054633",
     "exception": false,
     "start_time": "2024-12-24T06:44:49.975766",
     "status": "completed"
    },
    "tags": []
   },
   "outputs": [
    {
     "name": "stdout",
     "output_type": "stream",
     "text": [
      "'data.frame':\t940 obs. of  15 variables:\n",
      " $ Id                      : num  1.5e+09 1.5e+09 1.5e+09 1.5e+09 1.5e+09 ...\n",
      " $ ActivityDate            : chr  \"4/12/2016\" \"4/13/2016\" \"4/14/2016\" \"4/15/2016\" ...\n",
      " $ TotalSteps              : int  13162 10735 10460 9762 12669 9705 13019 15506 10544 9819 ...\n",
      " $ TotalDistance           : num  8.5 6.97 6.74 6.28 8.16 ...\n",
      " $ TrackerDistance         : num  8.5 6.97 6.74 6.28 8.16 ...\n",
      " $ LoggedActivitiesDistance: num  0 0 0 0 0 0 0 0 0 0 ...\n",
      " $ VeryActiveDistance      : num  1.88 1.57 2.44 2.14 2.71 ...\n",
      " $ ModeratelyActiveDistance: num  0.55 0.69 0.4 1.26 0.41 ...\n",
      " $ LightActiveDistance     : num  6.06 4.71 3.91 2.83 5.04 ...\n",
      " $ SedentaryActiveDistance : num  0 0 0 0 0 0 0 0 0 0 ...\n",
      " $ VeryActiveMinutes       : int  25 21 30 29 36 38 42 50 28 19 ...\n",
      " $ FairlyActiveMinutes     : int  13 19 11 34 10 20 16 31 12 8 ...\n",
      " $ LightlyActiveMinutes    : int  328 217 181 209 221 164 233 264 205 211 ...\n",
      " $ SedentaryMinutes        : int  728 776 1218 726 773 539 1149 775 818 838 ...\n",
      " $ Calories                : int  1985 1797 1776 1745 1863 1728 1921 2035 1786 1775 ...\n"
     ]
    },
    {
     "name": "stdout",
     "output_type": "stream",
     "text": [
      "'data.frame':\t22099 obs. of  3 variables:\n",
      " $ Id          : num  1.5e+09 1.5e+09 1.5e+09 1.5e+09 1.5e+09 ...\n",
      " $ ActivityHour: chr  \"4/12/2016 12:00:00 AM\" \"4/12/2016 1:00:00 AM\" \"4/12/2016 2:00:00 AM\" \"4/12/2016 3:00:00 AM\" ...\n",
      " $ Calories    : int  81 61 59 47 48 48 48 47 68 141 ...\n"
     ]
    },
    {
     "name": "stdout",
     "output_type": "stream",
     "text": [
      "'data.frame':\t22099 obs. of  4 variables:\n",
      " $ Id              : num  1.5e+09 1.5e+09 1.5e+09 1.5e+09 1.5e+09 ...\n",
      " $ ActivityHour    : chr  \"4/12/2016 12:00:00 AM\" \"4/12/2016 1:00:00 AM\" \"4/12/2016 2:00:00 AM\" \"4/12/2016 3:00:00 AM\" ...\n",
      " $ TotalIntensity  : int  20 8 7 0 0 0 0 0 13 30 ...\n",
      " $ AverageIntensity: num  0.333 0.133 0.117 0 0 ...\n"
     ]
    },
    {
     "name": "stdout",
     "output_type": "stream",
     "text": [
      "'data.frame':\t413 obs. of  5 variables:\n",
      " $ Id                : num  1.5e+09 1.5e+09 1.5e+09 1.5e+09 1.5e+09 ...\n",
      " $ SleepDay          : chr  \"4/12/2016 12:00:00 AM\" \"4/13/2016 12:00:00 AM\" \"4/15/2016 12:00:00 AM\" \"4/16/2016 12:00:00 AM\" ...\n",
      " $ TotalSleepRecords : int  1 2 1 2 1 1 1 1 1 1 ...\n",
      " $ TotalMinutesAsleep: int  327 384 412 340 700 304 360 325 361 430 ...\n",
      " $ TotalTimeInBed    : int  346 407 442 367 712 320 377 364 384 449 ...\n"
     ]
    },
    {
     "name": "stdout",
     "output_type": "stream",
     "text": [
      "'data.frame':\t2483658 obs. of  3 variables:\n",
      " $ Id   : num  2.02e+09 2.02e+09 2.02e+09 2.02e+09 2.02e+09 ...\n",
      " $ Time : chr  \"4/12/2016 7:21:00 AM\" \"4/12/2016 7:21:05 AM\" \"4/12/2016 7:21:10 AM\" \"4/12/2016 7:21:20 AM\" ...\n",
      " $ Value: int  97 102 105 103 101 95 91 93 94 93 ...\n"
     ]
    }
   ],
   "source": [
    "str(activity)\n",
    "str(calories)\n",
    "str(intensities)\n",
    "str(sleep)\n",
    "str(heartrate)"
   ]
  },
  {
   "cell_type": "markdown",
   "id": "bc0877b0",
   "metadata": {
    "papermill": {
     "duration": 0.006572,
     "end_time": "2024-12-24T06:44:50.068674",
     "exception": false,
     "start_time": "2024-12-24T06:44:50.062102",
     "status": "completed"
    },
    "tags": []
   },
   "source": [
    "#### so I noticed that the data type is (chr) which needs to be converted into date format and split the date and time"
   ]
  },
  {
   "cell_type": "code",
   "execution_count": 5,
   "id": "f84edbbd",
   "metadata": {
    "execution": {
     "iopub.execute_input": "2024-12-24T06:44:50.086996Z",
     "iopub.status.busy": "2024-12-24T06:44:50.085002Z",
     "iopub.status.idle": "2024-12-24T06:45:01.673079Z",
     "shell.execute_reply": "2024-12-24T06:45:01.671135Z"
    },
    "papermill": {
     "duration": 11.601748,
     "end_time": "2024-12-24T06:45:01.676895",
     "exception": false,
     "start_time": "2024-12-24T06:44:50.075147",
     "status": "completed"
    },
    "tags": []
   },
   "outputs": [],
   "source": [
    "# activity\n",
    "activity$ActivityDate=as.POSIXct(activity$ActivityDate, format=\"%m/%d/%Y\", tz=Sys.timezone())\n",
    "activity$date <- format(activity$ActivityDate, format = \"%m/%d/%y\")\n",
    "\n",
    "# calories\n",
    "calories$ActivityHour=as.POSIXct(calories$ActivityHour, format=\"%m/%d/%Y %I:%M:%S %p\", tz=Sys.timezone())\n",
    "calories$time <- format(calories$ActivityHour, format = \"%H:%M:%S\")\n",
    "calories$date <- format(calories$ActivityHour, format = \"%m/%d/%y\")\n",
    "\n",
    "# intensities\n",
    "intensities$ActivityHour=as.POSIXct(intensities$ActivityHour, format=\"%m/%d/%Y %I:%M:%S %p\", tz=Sys.timezone())\n",
    "intensities$time <- format(intensities$ActivityHour, format = \"%H:%M:%S\")\n",
    "intensities$date <- format(intensities$ActivityHour, format = \"%m/%d/%y\")\n",
    "\n",
    "# sleep\n",
    "sleep$SleepDay=as.POSIXct(sleep$SleepDay, format=\"%m/%d/%Y %I:%M:%S %p\", tz=Sys.timezone())\n",
    "sleep$date <- format(sleep$SleepDay, format = \"%m/%d/%y\")\n",
    "\n",
    "# heartrate aggregated by hour to reduce size and to be consistent with the other date\n",
    "heartrate_hourly <- heartrate %>%\n",
    "  mutate(Time = as.POSIXct(Time, format=\"%m/%d/%Y %I:%M:%S %p\", tz=Sys.timezone())) %>%  # Convert Time to POSIXct\n",
    "  mutate(Time = format(Time, \"%Y-%m-%d %H:00:00\")) %>%  # Round to the nearest hour\n",
    "  mutate(Time = as.POSIXct(Time)) %>%  # Convert back to POSIXct\n",
    "  group_by(Id, Time) %>%  # Group by user ID and hourly timestamp\n",
    "  summarise(BPM = mean(Value, na.rm = TRUE), .groups = 'drop')  # Calculate average BPM per hour"
   ]
  },
  {
   "cell_type": "markdown",
   "id": "ef528591",
   "metadata": {
    "papermill": {
     "duration": 0.007077,
     "end_time": "2024-12-24T06:45:01.692142",
     "exception": false,
     "start_time": "2024-12-24T06:45:01.685065",
     "status": "completed"
    },
    "tags": []
   },
   "source": [
    "#### now the data is cleaned, I'll proceed to find patterns, relationships and trends"
   ]
  },
  {
   "cell_type": "markdown",
   "id": "668bae52",
   "metadata": {
    "papermill": {
     "duration": 0.00736,
     "end_time": "2024-12-24T06:45:01.707763",
     "exception": false,
     "start_time": "2024-12-24T06:45:01.700403",
     "status": "completed"
    },
    "tags": []
   },
   "source": [
    "## Finding patterns, relationships and trends"
   ]
  },
  {
   "cell_type": "code",
   "execution_count": 6,
   "id": "440da49e",
   "metadata": {
    "execution": {
     "iopub.execute_input": "2024-12-24T06:45:01.729200Z",
     "iopub.status.busy": "2024-12-24T06:45:01.727273Z",
     "iopub.status.idle": "2024-12-24T06:45:01.777869Z",
     "shell.execute_reply": "2024-12-24T06:45:01.775991Z"
    },
    "papermill": {
     "duration": 0.065441,
     "end_time": "2024-12-24T06:45:01.781361",
     "exception": false,
     "start_time": "2024-12-24T06:45:01.715920",
     "status": "completed"
    },
    "tags": []
   },
   "outputs": [
    {
     "data": {
      "text/html": [
       "33"
      ],
      "text/latex": [
       "33"
      ],
      "text/markdown": [
       "33"
      ],
      "text/plain": [
       "[1] 33"
      ]
     },
     "metadata": {},
     "output_type": "display_data"
    },
    {
     "data": {
      "text/html": [
       "33"
      ],
      "text/latex": [
       "33"
      ],
      "text/markdown": [
       "33"
      ],
      "text/plain": [
       "[1] 33"
      ]
     },
     "metadata": {},
     "output_type": "display_data"
    },
    {
     "data": {
      "text/html": [
       "33"
      ],
      "text/latex": [
       "33"
      ],
      "text/markdown": [
       "33"
      ],
      "text/plain": [
       "[1] 33"
      ]
     },
     "metadata": {},
     "output_type": "display_data"
    },
    {
     "data": {
      "text/html": [
       "24"
      ],
      "text/latex": [
       "24"
      ],
      "text/markdown": [
       "24"
      ],
      "text/plain": [
       "[1] 24"
      ]
     },
     "metadata": {},
     "output_type": "display_data"
    },
    {
     "data": {
      "text/html": [
       "14"
      ],
      "text/latex": [
       "14"
      ],
      "text/markdown": [
       "14"
      ],
      "text/plain": [
       "[1] 14"
      ]
     },
     "metadata": {},
     "output_type": "display_data"
    }
   ],
   "source": [
    "# we use n_distinct() to know the number of particpent in each dataset\n",
    "\n",
    "n_distinct(activity$Id)\n",
    "n_distinct(calories$Id)\n",
    "n_distinct(intensities$Id)\n",
    "n_distinct(sleep$Id)\n",
    "n_distinct(heartrate_hourly$Id)"
   ]
  },
  {
   "cell_type": "markdown",
   "id": "69567807",
   "metadata": {
    "papermill": {
     "duration": 0.008966,
     "end_time": "2024-12-24T06:45:01.798646",
     "exception": false,
     "start_time": "2024-12-24T06:45:01.789680",
     "status": "completed"
    },
    "tags": []
   },
   "source": [
    "#### as we can see activity, calories and intensities have 33, sleep 24 and heartrate has 14 participent. While the heartrate data provides interesting insights, these findings should be interpreted cautiously due to the small sample size. \n"
   ]
  },
  {
   "cell_type": "code",
   "execution_count": 7,
   "id": "4cd7a581",
   "metadata": {
    "execution": {
     "iopub.execute_input": "2024-12-24T06:45:01.822321Z",
     "iopub.status.busy": "2024-12-24T06:45:01.820683Z",
     "iopub.status.idle": "2024-12-24T06:45:01.932501Z",
     "shell.execute_reply": "2024-12-24T06:45:01.930479Z"
    },
    "papermill": {
     "duration": 0.127901,
     "end_time": "2024-12-24T06:45:01.936255",
     "exception": false,
     "start_time": "2024-12-24T06:45:01.808354",
     "status": "completed"
    },
    "tags": []
   },
   "outputs": [
    {
     "data": {
      "text/plain": [
       "   TotalSteps    TotalDistance    SedentaryMinutes    Calories   \n",
       " Min.   :    0   Min.   : 0.000   Min.   :   0.0   Min.   :   0  \n",
       " 1st Qu.: 3790   1st Qu.: 2.620   1st Qu.: 729.8   1st Qu.:1828  \n",
       " Median : 7406   Median : 5.245   Median :1057.5   Median :2134  \n",
       " Mean   : 7638   Mean   : 5.490   Mean   : 991.2   Mean   :2304  \n",
       " 3rd Qu.:10727   3rd Qu.: 7.713   3rd Qu.:1229.5   3rd Qu.:2793  \n",
       " Max.   :36019   Max.   :28.030   Max.   :1440.0   Max.   :4900  "
      ]
     },
     "metadata": {},
     "output_type": "display_data"
    },
    {
     "data": {
      "text/plain": [
       " VeryActiveMinutes FairlyActiveMinutes LightlyActiveMinutes\n",
       " Min.   :  0.00    Min.   :  0.00      Min.   :  0.0       \n",
       " 1st Qu.:  0.00    1st Qu.:  0.00      1st Qu.:127.0       \n",
       " Median :  4.00    Median :  6.00      Median :199.0       \n",
       " Mean   : 21.16    Mean   : 13.56      Mean   :192.8       \n",
       " 3rd Qu.: 32.00    3rd Qu.: 19.00      3rd Qu.:264.0       \n",
       " Max.   :210.00    Max.   :143.00      Max.   :518.0       "
      ]
     },
     "metadata": {},
     "output_type": "display_data"
    },
    {
     "data": {
      "text/plain": [
       "    Calories     \n",
       " Min.   : 42.00  \n",
       " 1st Qu.: 63.00  \n",
       " Median : 83.00  \n",
       " Mean   : 97.39  \n",
       " 3rd Qu.:108.00  \n",
       " Max.   :948.00  "
      ]
     },
     "metadata": {},
     "output_type": "display_data"
    },
    {
     "data": {
      "text/plain": [
       " TotalSleepRecords TotalMinutesAsleep TotalTimeInBed \n",
       " Min.   :1.000     Min.   : 58.0      Min.   : 61.0  \n",
       " 1st Qu.:1.000     1st Qu.:361.0      1st Qu.:403.0  \n",
       " Median :1.000     Median :433.0      Median :463.0  \n",
       " Mean   :1.119     Mean   :419.5      Mean   :458.6  \n",
       " 3rd Qu.:1.000     3rd Qu.:490.0      3rd Qu.:526.0  \n",
       " Max.   :3.000     Max.   :796.0      Max.   :961.0  "
      ]
     },
     "metadata": {},
     "output_type": "display_data"
    },
    {
     "data": {
      "text/html": [
       "<table class=\"dataframe\">\n",
       "<caption>A tibble: 1 × 5</caption>\n",
       "<thead>\n",
       "\t<tr><th scope=col>Min_BPM</th><th scope=col>Max_BPM</th><th scope=col>Mean_BPM</th><th scope=col>Median_BPM</th><th scope=col>SD_BPM</th></tr>\n",
       "\t<tr><th scope=col>&lt;dbl&gt;</th><th scope=col>&lt;dbl&gt;</th><th scope=col>&lt;dbl&gt;</th><th scope=col>&lt;dbl&gt;</th><th scope=col>&lt;dbl&gt;</th></tr>\n",
       "</thead>\n",
       "<tbody>\n",
       "\t<tr><td>43.35404</td><td>161.5073</td><td>74.85052</td><td>72.5</td><td>14.64364</td></tr>\n",
       "</tbody>\n",
       "</table>\n"
      ],
      "text/latex": [
       "A tibble: 1 × 5\n",
       "\\begin{tabular}{lllll}\n",
       " Min\\_BPM & Max\\_BPM & Mean\\_BPM & Median\\_BPM & SD\\_BPM\\\\\n",
       " <dbl> & <dbl> & <dbl> & <dbl> & <dbl>\\\\\n",
       "\\hline\n",
       "\t 43.35404 & 161.5073 & 74.85052 & 72.5 & 14.64364\\\\\n",
       "\\end{tabular}\n"
      ],
      "text/markdown": [
       "\n",
       "A tibble: 1 × 5\n",
       "\n",
       "| Min_BPM &lt;dbl&gt; | Max_BPM &lt;dbl&gt; | Mean_BPM &lt;dbl&gt; | Median_BPM &lt;dbl&gt; | SD_BPM &lt;dbl&gt; |\n",
       "|---|---|---|---|---|\n",
       "| 43.35404 | 161.5073 | 74.85052 | 72.5 | 14.64364 |\n",
       "\n"
      ],
      "text/plain": [
       "  Min_BPM  Max_BPM  Mean_BPM Median_BPM SD_BPM  \n",
       "1 43.35404 161.5073 74.85052 72.5       14.64364"
      ]
     },
     "metadata": {},
     "output_type": "display_data"
    }
   ],
   "source": [
    "# now we'll use summary() to look at the statistic of the data\n",
    "\n",
    "# activity\n",
    "activity %>%  \n",
    "  select(TotalSteps,\n",
    "         TotalDistance,\n",
    "         SedentaryMinutes, Calories) %>%\n",
    "  summary()\n",
    "# explore num of active minutes per category\n",
    "activity %>%\n",
    "  select(VeryActiveMinutes, FairlyActiveMinutes, LightlyActiveMinutes) %>%\n",
    "  summary()\n",
    "\n",
    "# calories\n",
    "calories %>%\n",
    "  select(Calories) %>%\n",
    "  summary()\n",
    "\n",
    "# sleep\n",
    "sleep %>%\n",
    "  select(TotalSleepRecords, TotalMinutesAsleep, TotalTimeInBed) %>%\n",
    "  summary()\n",
    "\n",
    "# heartrate_hourly\n",
    "heartrate_hourly %>%\n",
    "  summarise(\n",
    "    Min_BPM = min(BPM, na.rm = TRUE),\n",
    "    Max_BPM = max(BPM, na.rm = TRUE),\n",
    "    Mean_BPM = mean(BPM, na.rm = TRUE),\n",
    "    Median_BPM = median(BPM, na.rm = TRUE),\n",
    "    SD_BPM = sd(BPM, na.rm = TRUE)\n",
    "  )\n",
    "# I used summarise() for calculating specific statistics with custom grouping, as required in this analysis."
   ]
  },
  {
   "cell_type": "markdown",
   "id": "eaac3fac",
   "metadata": {
    "papermill": {
     "duration": 0.011643,
     "end_time": "2024-12-24T06:45:01.956998",
     "exception": false,
     "start_time": "2024-12-24T06:45:01.945355",
     "status": "completed"
    },
    "tags": []
   },
   "source": [
    "#### Let's dive into what this data tells us about our participants:\n",
    "\n",
    "* The average step count is below the recommended 8,000 steps, suggesting many participants could benefit from increasing their daily walking.\n",
    "* Sedentary lifestyle is the norm. On average, people spend a significant portion of their day sitting. This highlights a need to encourage more movement throughout the day.\n",
    "* Not enough intense activity. The average time spent in very active minutes is low, indicating a lack of vigorous exercise.\n",
    "* Sleep quality might be an issue. While the average sleep duration is decent, the difference between time in bed and actual sleep time suggests potential sleep disturbances.\n",
    "  \n",
    "#### On the plus side:\n",
    "\n",
    "* Heart rates are generally healthy. The average resting heart rate is within a normal range.\n",
    "* Some bursts of activity. The maximum heart rate indicates that participants do engage in more intense activities at times."
   ]
  },
  {
   "cell_type": "markdown",
   "id": "1e39fe6e",
   "metadata": {
    "papermill": {
     "duration": 0.012778,
     "end_time": "2024-12-24T06:45:01.981173",
     "exception": false,
     "start_time": "2024-12-24T06:45:01.968395",
     "status": "completed"
    },
    "tags": []
   },
   "source": [
    "## Merging the datasets"
   ]
  },
  {
   "cell_type": "code",
   "execution_count": 8,
   "id": "13a9135f",
   "metadata": {
    "execution": {
     "iopub.execute_input": "2024-12-24T06:45:02.012736Z",
     "iopub.status.busy": "2024-12-24T06:45:02.011044Z",
     "iopub.status.idle": "2024-12-24T06:45:04.901641Z",
     "shell.execute_reply": "2024-12-24T06:45:04.899842Z"
    },
    "papermill": {
     "duration": 2.911877,
     "end_time": "2024-12-24T06:45:04.904215",
     "exception": false,
     "start_time": "2024-12-24T06:45:01.992338",
     "status": "completed"
    },
    "tags": []
   },
   "outputs": [
    {
     "data": {
      "text/html": [
       "<table class=\"dataframe\">\n",
       "<caption>A data.frame: 6 × 20</caption>\n",
       "<thead>\n",
       "\t<tr><th></th><th scope=col>Id</th><th scope=col>date</th><th scope=col>ActivityDate</th><th scope=col>TotalSteps</th><th scope=col>TotalDistance</th><th scope=col>TrackerDistance</th><th scope=col>LoggedActivitiesDistance</th><th scope=col>VeryActiveDistance</th><th scope=col>ModeratelyActiveDistance</th><th scope=col>LightActiveDistance</th><th scope=col>SedentaryActiveDistance</th><th scope=col>VeryActiveMinutes</th><th scope=col>FairlyActiveMinutes</th><th scope=col>LightlyActiveMinutes</th><th scope=col>SedentaryMinutes</th><th scope=col>Calories</th><th scope=col>SleepDay</th><th scope=col>TotalSleepRecords</th><th scope=col>TotalMinutesAsleep</th><th scope=col>TotalTimeInBed</th></tr>\n",
       "\t<tr><th></th><th scope=col>&lt;dbl&gt;</th><th scope=col>&lt;chr&gt;</th><th scope=col>&lt;dttm&gt;</th><th scope=col>&lt;int&gt;</th><th scope=col>&lt;dbl&gt;</th><th scope=col>&lt;dbl&gt;</th><th scope=col>&lt;dbl&gt;</th><th scope=col>&lt;dbl&gt;</th><th scope=col>&lt;dbl&gt;</th><th scope=col>&lt;dbl&gt;</th><th scope=col>&lt;dbl&gt;</th><th scope=col>&lt;int&gt;</th><th scope=col>&lt;int&gt;</th><th scope=col>&lt;int&gt;</th><th scope=col>&lt;int&gt;</th><th scope=col>&lt;int&gt;</th><th scope=col>&lt;dttm&gt;</th><th scope=col>&lt;int&gt;</th><th scope=col>&lt;int&gt;</th><th scope=col>&lt;int&gt;</th></tr>\n",
       "</thead>\n",
       "<tbody>\n",
       "\t<tr><th scope=row>1</th><td>1503960366</td><td>04/12/16</td><td>2016-04-12</td><td>13162</td><td>8.50</td><td>8.50</td><td>0</td><td>1.88</td><td>0.55</td><td>6.06</td><td>0</td><td>25</td><td>13</td><td>328</td><td>728</td><td>1985</td><td>2016-04-12</td><td>1</td><td>327</td><td>346</td></tr>\n",
       "\t<tr><th scope=row>2</th><td>1503960366</td><td>04/13/16</td><td>2016-04-13</td><td>10735</td><td>6.97</td><td>6.97</td><td>0</td><td>1.57</td><td>0.69</td><td>4.71</td><td>0</td><td>21</td><td>19</td><td>217</td><td>776</td><td>1797</td><td>2016-04-13</td><td>2</td><td>384</td><td>407</td></tr>\n",
       "\t<tr><th scope=row>3</th><td>1503960366</td><td>04/15/16</td><td>2016-04-15</td><td> 9762</td><td>6.28</td><td>6.28</td><td>0</td><td>2.14</td><td>1.26</td><td>2.83</td><td>0</td><td>29</td><td>34</td><td>209</td><td>726</td><td>1745</td><td>2016-04-15</td><td>1</td><td>412</td><td>442</td></tr>\n",
       "\t<tr><th scope=row>4</th><td>1503960366</td><td>04/16/16</td><td>2016-04-16</td><td>12669</td><td>8.16</td><td>8.16</td><td>0</td><td>2.71</td><td>0.41</td><td>5.04</td><td>0</td><td>36</td><td>10</td><td>221</td><td>773</td><td>1863</td><td>2016-04-16</td><td>2</td><td>340</td><td>367</td></tr>\n",
       "\t<tr><th scope=row>5</th><td>1503960366</td><td>04/17/16</td><td>2016-04-17</td><td> 9705</td><td>6.48</td><td>6.48</td><td>0</td><td>3.19</td><td>0.78</td><td>2.51</td><td>0</td><td>38</td><td>20</td><td>164</td><td>539</td><td>1728</td><td>2016-04-17</td><td>1</td><td>700</td><td>712</td></tr>\n",
       "\t<tr><th scope=row>6</th><td>1503960366</td><td>04/19/16</td><td>2016-04-19</td><td>15506</td><td>9.88</td><td>9.88</td><td>0</td><td>3.53</td><td>1.32</td><td>5.03</td><td>0</td><td>50</td><td>31</td><td>264</td><td>775</td><td>2035</td><td>2016-04-19</td><td>1</td><td>304</td><td>320</td></tr>\n",
       "</tbody>\n",
       "</table>\n"
      ],
      "text/latex": [
       "A data.frame: 6 × 20\n",
       "\\begin{tabular}{r|llllllllllllllllllll}\n",
       "  & Id & date & ActivityDate & TotalSteps & TotalDistance & TrackerDistance & LoggedActivitiesDistance & VeryActiveDistance & ModeratelyActiveDistance & LightActiveDistance & SedentaryActiveDistance & VeryActiveMinutes & FairlyActiveMinutes & LightlyActiveMinutes & SedentaryMinutes & Calories & SleepDay & TotalSleepRecords & TotalMinutesAsleep & TotalTimeInBed\\\\\n",
       "  & <dbl> & <chr> & <dttm> & <int> & <dbl> & <dbl> & <dbl> & <dbl> & <dbl> & <dbl> & <dbl> & <int> & <int> & <int> & <int> & <int> & <dttm> & <int> & <int> & <int>\\\\\n",
       "\\hline\n",
       "\t1 & 1503960366 & 04/12/16 & 2016-04-12 & 13162 & 8.50 & 8.50 & 0 & 1.88 & 0.55 & 6.06 & 0 & 25 & 13 & 328 & 728 & 1985 & 2016-04-12 & 1 & 327 & 346\\\\\n",
       "\t2 & 1503960366 & 04/13/16 & 2016-04-13 & 10735 & 6.97 & 6.97 & 0 & 1.57 & 0.69 & 4.71 & 0 & 21 & 19 & 217 & 776 & 1797 & 2016-04-13 & 2 & 384 & 407\\\\\n",
       "\t3 & 1503960366 & 04/15/16 & 2016-04-15 &  9762 & 6.28 & 6.28 & 0 & 2.14 & 1.26 & 2.83 & 0 & 29 & 34 & 209 & 726 & 1745 & 2016-04-15 & 1 & 412 & 442\\\\\n",
       "\t4 & 1503960366 & 04/16/16 & 2016-04-16 & 12669 & 8.16 & 8.16 & 0 & 2.71 & 0.41 & 5.04 & 0 & 36 & 10 & 221 & 773 & 1863 & 2016-04-16 & 2 & 340 & 367\\\\\n",
       "\t5 & 1503960366 & 04/17/16 & 2016-04-17 &  9705 & 6.48 & 6.48 & 0 & 3.19 & 0.78 & 2.51 & 0 & 38 & 20 & 164 & 539 & 1728 & 2016-04-17 & 1 & 700 & 712\\\\\n",
       "\t6 & 1503960366 & 04/19/16 & 2016-04-19 & 15506 & 9.88 & 9.88 & 0 & 3.53 & 1.32 & 5.03 & 0 & 50 & 31 & 264 & 775 & 2035 & 2016-04-19 & 1 & 304 & 320\\\\\n",
       "\\end{tabular}\n"
      ],
      "text/markdown": [
       "\n",
       "A data.frame: 6 × 20\n",
       "\n",
       "| <!--/--> | Id &lt;dbl&gt; | date &lt;chr&gt; | ActivityDate &lt;dttm&gt; | TotalSteps &lt;int&gt; | TotalDistance &lt;dbl&gt; | TrackerDistance &lt;dbl&gt; | LoggedActivitiesDistance &lt;dbl&gt; | VeryActiveDistance &lt;dbl&gt; | ModeratelyActiveDistance &lt;dbl&gt; | LightActiveDistance &lt;dbl&gt; | SedentaryActiveDistance &lt;dbl&gt; | VeryActiveMinutes &lt;int&gt; | FairlyActiveMinutes &lt;int&gt; | LightlyActiveMinutes &lt;int&gt; | SedentaryMinutes &lt;int&gt; | Calories &lt;int&gt; | SleepDay &lt;dttm&gt; | TotalSleepRecords &lt;int&gt; | TotalMinutesAsleep &lt;int&gt; | TotalTimeInBed &lt;int&gt; |\n",
       "|---|---|---|---|---|---|---|---|---|---|---|---|---|---|---|---|---|---|---|---|---|\n",
       "| 1 | 1503960366 | 04/12/16 | 2016-04-12 | 13162 | 8.50 | 8.50 | 0 | 1.88 | 0.55 | 6.06 | 0 | 25 | 13 | 328 | 728 | 1985 | 2016-04-12 | 1 | 327 | 346 |\n",
       "| 2 | 1503960366 | 04/13/16 | 2016-04-13 | 10735 | 6.97 | 6.97 | 0 | 1.57 | 0.69 | 4.71 | 0 | 21 | 19 | 217 | 776 | 1797 | 2016-04-13 | 2 | 384 | 407 |\n",
       "| 3 | 1503960366 | 04/15/16 | 2016-04-15 |  9762 | 6.28 | 6.28 | 0 | 2.14 | 1.26 | 2.83 | 0 | 29 | 34 | 209 | 726 | 1745 | 2016-04-15 | 1 | 412 | 442 |\n",
       "| 4 | 1503960366 | 04/16/16 | 2016-04-16 | 12669 | 8.16 | 8.16 | 0 | 2.71 | 0.41 | 5.04 | 0 | 36 | 10 | 221 | 773 | 1863 | 2016-04-16 | 2 | 340 | 367 |\n",
       "| 5 | 1503960366 | 04/17/16 | 2016-04-17 |  9705 | 6.48 | 6.48 | 0 | 3.19 | 0.78 | 2.51 | 0 | 38 | 20 | 164 | 539 | 1728 | 2016-04-17 | 1 | 700 | 712 |\n",
       "| 6 | 1503960366 | 04/19/16 | 2016-04-19 | 15506 | 9.88 | 9.88 | 0 | 3.53 | 1.32 | 5.03 | 0 | 50 | 31 | 264 | 775 | 2035 | 2016-04-19 | 1 | 304 | 320 |\n",
       "\n"
      ],
      "text/plain": [
       "  Id         date     ActivityDate TotalSteps TotalDistance TrackerDistance\n",
       "1 1503960366 04/12/16 2016-04-12   13162      8.50          8.50           \n",
       "2 1503960366 04/13/16 2016-04-13   10735      6.97          6.97           \n",
       "3 1503960366 04/15/16 2016-04-15    9762      6.28          6.28           \n",
       "4 1503960366 04/16/16 2016-04-16   12669      8.16          8.16           \n",
       "5 1503960366 04/17/16 2016-04-17    9705      6.48          6.48           \n",
       "6 1503960366 04/19/16 2016-04-19   15506      9.88          9.88           \n",
       "  LoggedActivitiesDistance VeryActiveDistance ModeratelyActiveDistance\n",
       "1 0                        1.88               0.55                    \n",
       "2 0                        1.57               0.69                    \n",
       "3 0                        2.14               1.26                    \n",
       "4 0                        2.71               0.41                    \n",
       "5 0                        3.19               0.78                    \n",
       "6 0                        3.53               1.32                    \n",
       "  LightActiveDistance SedentaryActiveDistance VeryActiveMinutes\n",
       "1 6.06                0                       25               \n",
       "2 4.71                0                       21               \n",
       "3 2.83                0                       29               \n",
       "4 5.04                0                       36               \n",
       "5 2.51                0                       38               \n",
       "6 5.03                0                       50               \n",
       "  FairlyActiveMinutes LightlyActiveMinutes SedentaryMinutes Calories SleepDay  \n",
       "1 13                  328                  728              1985     2016-04-12\n",
       "2 19                  217                  776              1797     2016-04-13\n",
       "3 34                  209                  726              1745     2016-04-15\n",
       "4 10                  221                  773              1863     2016-04-16\n",
       "5 20                  164                  539              1728     2016-04-17\n",
       "6 31                  264                  775              2035     2016-04-19\n",
       "  TotalSleepRecords TotalMinutesAsleep TotalTimeInBed\n",
       "1 1                 327                346           \n",
       "2 2                 384                407           \n",
       "3 1                 412                442           \n",
       "4 2                 340                367           \n",
       "5 1                 700                712           \n",
       "6 1                 304                320           "
      ]
     },
     "metadata": {},
     "output_type": "display_data"
    },
    {
     "data": {
      "text/html": [
       "<table class=\"dataframe\">\n",
       "<caption>A data.frame: 6 × 9</caption>\n",
       "<thead>\n",
       "\t<tr><th></th><th scope=col>Id</th><th scope=col>date</th><th scope=col>ActivityHour.x</th><th scope=col>TotalIntensity</th><th scope=col>AverageIntensity</th><th scope=col>time.x</th><th scope=col>ActivityHour.y</th><th scope=col>Calories</th><th scope=col>time.y</th></tr>\n",
       "\t<tr><th></th><th scope=col>&lt;dbl&gt;</th><th scope=col>&lt;chr&gt;</th><th scope=col>&lt;dttm&gt;</th><th scope=col>&lt;int&gt;</th><th scope=col>&lt;dbl&gt;</th><th scope=col>&lt;chr&gt;</th><th scope=col>&lt;dttm&gt;</th><th scope=col>&lt;int&gt;</th><th scope=col>&lt;chr&gt;</th></tr>\n",
       "</thead>\n",
       "<tbody>\n",
       "\t<tr><th scope=row>1</th><td>1503960366</td><td>04/12/16</td><td>2016-04-12</td><td>20</td><td>0.333333</td><td>00:00:00</td><td>2016-04-12 00:00:00</td><td>81</td><td>00:00:00</td></tr>\n",
       "\t<tr><th scope=row>2</th><td>1503960366</td><td>04/12/16</td><td>2016-04-12</td><td>20</td><td>0.333333</td><td>00:00:00</td><td>2016-04-12 01:00:00</td><td>61</td><td>01:00:00</td></tr>\n",
       "\t<tr><th scope=row>3</th><td>1503960366</td><td>04/12/16</td><td>2016-04-12</td><td>20</td><td>0.333333</td><td>00:00:00</td><td>2016-04-12 02:00:00</td><td>59</td><td>02:00:00</td></tr>\n",
       "\t<tr><th scope=row>4</th><td>1503960366</td><td>04/12/16</td><td>2016-04-12</td><td>20</td><td>0.333333</td><td>00:00:00</td><td>2016-04-12 03:00:00</td><td>47</td><td>03:00:00</td></tr>\n",
       "\t<tr><th scope=row>5</th><td>1503960366</td><td>04/12/16</td><td>2016-04-12</td><td>20</td><td>0.333333</td><td>00:00:00</td><td>2016-04-12 04:00:00</td><td>48</td><td>04:00:00</td></tr>\n",
       "\t<tr><th scope=row>6</th><td>1503960366</td><td>04/12/16</td><td>2016-04-12</td><td>20</td><td>0.333333</td><td>00:00:00</td><td>2016-04-12 05:00:00</td><td>48</td><td>05:00:00</td></tr>\n",
       "</tbody>\n",
       "</table>\n"
      ],
      "text/latex": [
       "A data.frame: 6 × 9\n",
       "\\begin{tabular}{r|lllllllll}\n",
       "  & Id & date & ActivityHour.x & TotalIntensity & AverageIntensity & time.x & ActivityHour.y & Calories & time.y\\\\\n",
       "  & <dbl> & <chr> & <dttm> & <int> & <dbl> & <chr> & <dttm> & <int> & <chr>\\\\\n",
       "\\hline\n",
       "\t1 & 1503960366 & 04/12/16 & 2016-04-12 & 20 & 0.333333 & 00:00:00 & 2016-04-12 00:00:00 & 81 & 00:00:00\\\\\n",
       "\t2 & 1503960366 & 04/12/16 & 2016-04-12 & 20 & 0.333333 & 00:00:00 & 2016-04-12 01:00:00 & 61 & 01:00:00\\\\\n",
       "\t3 & 1503960366 & 04/12/16 & 2016-04-12 & 20 & 0.333333 & 00:00:00 & 2016-04-12 02:00:00 & 59 & 02:00:00\\\\\n",
       "\t4 & 1503960366 & 04/12/16 & 2016-04-12 & 20 & 0.333333 & 00:00:00 & 2016-04-12 03:00:00 & 47 & 03:00:00\\\\\n",
       "\t5 & 1503960366 & 04/12/16 & 2016-04-12 & 20 & 0.333333 & 00:00:00 & 2016-04-12 04:00:00 & 48 & 04:00:00\\\\\n",
       "\t6 & 1503960366 & 04/12/16 & 2016-04-12 & 20 & 0.333333 & 00:00:00 & 2016-04-12 05:00:00 & 48 & 05:00:00\\\\\n",
       "\\end{tabular}\n"
      ],
      "text/markdown": [
       "\n",
       "A data.frame: 6 × 9\n",
       "\n",
       "| <!--/--> | Id &lt;dbl&gt; | date &lt;chr&gt; | ActivityHour.x &lt;dttm&gt; | TotalIntensity &lt;int&gt; | AverageIntensity &lt;dbl&gt; | time.x &lt;chr&gt; | ActivityHour.y &lt;dttm&gt; | Calories &lt;int&gt; | time.y &lt;chr&gt; |\n",
       "|---|---|---|---|---|---|---|---|---|---|\n",
       "| 1 | 1503960366 | 04/12/16 | 2016-04-12 | 20 | 0.333333 | 00:00:00 | 2016-04-12 00:00:00 | 81 | 00:00:00 |\n",
       "| 2 | 1503960366 | 04/12/16 | 2016-04-12 | 20 | 0.333333 | 00:00:00 | 2016-04-12 01:00:00 | 61 | 01:00:00 |\n",
       "| 3 | 1503960366 | 04/12/16 | 2016-04-12 | 20 | 0.333333 | 00:00:00 | 2016-04-12 02:00:00 | 59 | 02:00:00 |\n",
       "| 4 | 1503960366 | 04/12/16 | 2016-04-12 | 20 | 0.333333 | 00:00:00 | 2016-04-12 03:00:00 | 47 | 03:00:00 |\n",
       "| 5 | 1503960366 | 04/12/16 | 2016-04-12 | 20 | 0.333333 | 00:00:00 | 2016-04-12 04:00:00 | 48 | 04:00:00 |\n",
       "| 6 | 1503960366 | 04/12/16 | 2016-04-12 | 20 | 0.333333 | 00:00:00 | 2016-04-12 05:00:00 | 48 | 05:00:00 |\n",
       "\n"
      ],
      "text/plain": [
       "  Id         date     ActivityHour.x TotalIntensity AverageIntensity time.x  \n",
       "1 1503960366 04/12/16 2016-04-12     20             0.333333         00:00:00\n",
       "2 1503960366 04/12/16 2016-04-12     20             0.333333         00:00:00\n",
       "3 1503960366 04/12/16 2016-04-12     20             0.333333         00:00:00\n",
       "4 1503960366 04/12/16 2016-04-12     20             0.333333         00:00:00\n",
       "5 1503960366 04/12/16 2016-04-12     20             0.333333         00:00:00\n",
       "6 1503960366 04/12/16 2016-04-12     20             0.333333         00:00:00\n",
       "  ActivityHour.y      Calories time.y  \n",
       "1 2016-04-12 00:00:00 81       00:00:00\n",
       "2 2016-04-12 01:00:00 61       01:00:00\n",
       "3 2016-04-12 02:00:00 59       02:00:00\n",
       "4 2016-04-12 03:00:00 47       03:00:00\n",
       "5 2016-04-12 04:00:00 48       04:00:00\n",
       "6 2016-04-12 05:00:00 48       05:00:00"
      ]
     },
     "metadata": {},
     "output_type": "display_data"
    }
   ],
   "source": [
    "\n",
    "# Merging activity and sleep datasets to explore the relationship between physical activity and sleep metrics.\n",
    "# This will help analyze how different activity levels (e.g., steps, distance, and active minutes) might impact sleep duration and quality.\n",
    "activity_sleep <- merge(activity, sleep, by=c('Id', 'date'))\n",
    "head(activity_sleep)\n",
    "\n",
    "# Merging intensities and calories datasets to study the correlation between activity intensity and calorie expenditure.\n",
    "# This merge enables the exploration of whether higher intensity levels lead to burning more calories.\n",
    "intensities_calories <- merge(intensities, calories, by=c('Id', 'date'))\n",
    "head(intensities_calories)\n",
    "\n",
    "\n",
    "\n"
   ]
  },
  {
   "cell_type": "markdown",
   "id": "61887cab",
   "metadata": {
    "papermill": {
     "duration": 0.008166,
     "end_time": "2024-12-24T06:45:04.920800",
     "exception": false,
     "start_time": "2024-12-24T06:45:04.912634",
     "status": "completed"
    },
    "tags": []
   },
   "source": [
    "## Vizualization"
   ]
  },
  {
   "cell_type": "code",
   "execution_count": 9,
   "id": "8616061f",
   "metadata": {
    "execution": {
     "iopub.execute_input": "2024-12-24T06:45:04.941186Z",
     "iopub.status.busy": "2024-12-24T06:45:04.939536Z",
     "iopub.status.idle": "2024-12-24T06:45:06.050587Z",
     "shell.execute_reply": "2024-12-24T06:45:06.047627Z"
    },
    "papermill": {
     "duration": 1.12493,
     "end_time": "2024-12-24T06:45:06.053805",
     "exception": false,
     "start_time": "2024-12-24T06:45:04.928875",
     "status": "completed"
    },
    "tags": []
   },
   "outputs": [
    {
     "data": {
      "image/png": "[encoded data removed]"
     },
     "metadata": {
      "image/png": {
       "height": 420,
       "width": 420
      }
     },
     "output_type": "display_data"
    }
   ],
   "source": [
    "# Summarize the intensities_calories dataset to calculate average calories burned per intensity range\n",
    "intensity_calories_summary <- intensities_calories %>%\n",
    "  group_by(TotalIntensity) %>%\n",
    "  summarise(AverageCalories = mean(Calories, na.rm = TRUE))\n",
    "\n",
    "# Create a bar plot to show the relationship between intensity and calories burned\n",
    "ggplot(data = intensity_calories_summary, aes(x = TotalIntensity, y = AverageCalories)) +\n",
    "  geom_bar(stat = \"identity\", fill = \"skyblue\") +\n",
    "  theme_minimal() +\n",
    "  labs(\n",
    "    title = \"Average Calories Burned per Intensity Level\",\n",
    "    x = \"Total Intensity\",\n",
    "    y = \"Average Calories Burned\"\n",
    "  ) +\n",
    "  theme(axis.text.x = element_text(angle = 45, hjust = 1))\n"
   ]
  },
  {
   "cell_type": "markdown",
   "id": "335b3a8e",
   "metadata": {
    "papermill": {
     "duration": 0.008909,
     "end_time": "2024-12-24T06:45:06.071593",
     "exception": false,
     "start_time": "2024-12-24T06:45:06.062684",
     "status": "completed"
    },
    "tags": []
   },
   "source": [
    "as we can see here, there's a postive relation between high intensity and calories burned, which means we can market shorter intensity workouts to burn more calories"
   ]
  },
  {
   "cell_type": "code",
   "execution_count": 10,
   "id": "77d4dec8",
   "metadata": {
    "execution": {
     "iopub.execute_input": "2024-12-24T06:45:06.093817Z",
     "iopub.status.busy": "2024-12-24T06:45:06.092248Z",
     "iopub.status.idle": "2024-12-24T06:45:06.957546Z",
     "shell.execute_reply": "2024-12-24T06:45:06.954541Z"
    },
    "papermill": {
     "duration": 0.880421,
     "end_time": "2024-12-24T06:45:06.960935",
     "exception": false,
     "start_time": "2024-12-24T06:45:06.080514",
     "status": "completed"
    },
    "tags": []
   },
   "outputs": [
    {
     "name": "stderr",
     "output_type": "stream",
     "text": [
      "Warning message:\n",
      "“\u001b[1m\u001b[22mUsing `size` aesthetic for lines was deprecated in ggplot2 3.4.0.\n",
      "\u001b[36mℹ\u001b[39m Please use `linewidth` instead.”\n"
     ]
    },
    {
     "data": {
      "image/png": "[encoded data removed]"
     },
     "metadata": {
      "image/png": {
       "height": 420,
       "width": 420
      }
     },
     "output_type": "display_data"
    }
   ],
   "source": [
    "# Prepare the heart rate data\n",
    "avg_hr_by_hour <- heartrate_hourly %>%\n",
    "  mutate(hour = format(as.POSIXct(Time, format=\"%H:%M:%S\"), \"%H\")) %>%\n",
    "  group_by(hour) %>%\n",
    "  summarize(avg_BPM = mean(BPM, na.rm = TRUE))\n",
    "\n",
    "# Prepare the intensity data\n",
    "int_new <- intensities %>%\n",
    "  group_by(time) %>%\n",
    "  drop_na() %>%\n",
    "  summarise(mean_total_int = mean(TotalIntensity))\n",
    "\n",
    "# Convert the 'hour' column in avg_hr_by_hour to a numeric format\n",
    "avg_hr_by_hour$hour <- as.numeric(avg_hr_by_hour$hour)\n",
    "\n",
    "# Convert the 'time' column in int_new to numeric hours\n",
    "# Step 1: Convert 'time' to POSIXct datetime format using the hour-minute-second structure\n",
    "# Step 2: Extract only the hour (e.g., \"08:00:00\" -> \"08\") \n",
    "# Step 3: Convert the extracted hour to a numeric value (e.g., \"08\" -> 8)\n",
    "int_new$time <- as.numeric(format(as.POSIXct(int_new$time, format=\"%H:%M:%S\"), \"%H\"))\n",
    "\n",
    "\n",
    "# Merge the data\n",
    "combined_data <- merge(avg_hr_by_hour, int_new, by.x = \"hour\", by.y = \"time\", all = TRUE)\n",
    "\n",
    "# Plot both heart rate and total intensity on a single plot with dual axes\n",
    "ggplot() +\n",
    "  # Plot for Average Heart Rate\n",
    "  geom_line(data = combined_data, aes(x = hour, y = avg_BPM, color = \"Heart Rate (BPM)\"), size = 1) +\n",
    "  geom_point(data = combined_data, aes(x = hour, y = avg_BPM, color = \"Heart Rate (BPM)\"), size = 2) +\n",
    "  \n",
    "  # Plot for Average Total Intensity\n",
    "  geom_bar(data = combined_data, aes(x = hour, y = mean_total_int, fill = \"Intensity\"), stat = \"identity\", alpha = 0.5) +\n",
    "  \n",
    "  # Labels and theme\n",
    "  labs(\n",
    "    title = \"Average Heart Rate and Total Intensity by Hour of the Day\",\n",
    "    x = \"Hour of the Day\",\n",
    "    y = \"Average BPM\"\n",
    "  ) +\n",
    "  scale_color_manual(values = c(\"Heart Rate (BPM)\" = \"blue\")) +\n",
    "  scale_fill_manual(values = c(\"Intensity\" = \"darkblue\")) +\n",
    "  theme_minimal() +\n",
    "  \n",
    "  # Add secondary y-axis for intensity\n",
    "  scale_y_continuous(\n",
    "    name = \"Average BPM\",\n",
    "    sec.axis = sec_axis(~ ., name = \"Total Intensity\")\n",
    "  ) +\n",
    "  \n",
    "  # Customize x-axis\n",
    "  scale_x_continuous(breaks = 0:23) +\n",
    "  theme(axis.text.x = element_text(angle = 45, hjust = 1)) +\n",
    "  theme(legend.position = \"bottom\")\n"
   ]
  },
  {
   "cell_type": "markdown",
   "id": "9e89e6a5",
   "metadata": {
    "papermill": {
     "duration": 0.010085,
     "end_time": "2024-12-24T06:45:06.981488",
     "exception": false,
     "start_time": "2024-12-24T06:45:06.971403",
     "status": "completed"
    },
    "tags": []
   },
   "source": [
    "in this viz we analyzed total intensities and heartrate per hour, we can conclude that our particepnt are mostly active from 12:1 pm and 5:8 pm "
   ]
  },
  {
   "cell_type": "code",
   "execution_count": 11,
   "id": "71d1e038",
   "metadata": {
    "execution": {
     "iopub.execute_input": "2024-12-24T06:45:07.006431Z",
     "iopub.status.busy": "2024-12-24T06:45:07.004776Z",
     "iopub.status.idle": "2024-12-24T06:45:08.966027Z",
     "shell.execute_reply": "2024-12-24T06:45:08.963225Z"
    },
    "papermill": {
     "duration": 1.978661,
     "end_time": "2024-12-24T06:45:08.970577",
     "exception": false,
     "start_time": "2024-12-24T06:45:06.991916",
     "status": "completed"
    },
    "tags": []
   },
   "outputs": [
    {
     "name": "stderr",
     "output_type": "stream",
     "text": [
      "\u001b[1m\u001b[22m`geom_smooth()` using method = 'loess' and formula = 'y ~ x'\n"
     ]
    },
    {
     "data": {
      "image/png": "[encoded data removed]"
     },
     "metadata": {
      "image/png": {
       "height": 420,
       "width": 420
      }
     },
     "output_type": "display_data"
    }
   ],
   "source": [
    "ggplot(data=activity_sleep, aes(x=TotalMinutesAsleep, y=SedentaryMinutes)) +  \n",
    "geom_point(color='darkblue') + geom_smooth() +\n",
    "  labs(title=\"Minutes Asleep vs. Sedentary Minutes\")"
   ]
  },
  {
   "cell_type": "markdown",
   "id": "1698379b",
   "metadata": {
    "papermill": {
     "duration": 0.012876,
     "end_time": "2024-12-24T06:45:08.996426",
     "exception": false,
     "start_time": "2024-12-24T06:45:08.983550",
     "status": "completed"
    },
    "tags": []
   },
   "source": [
    "as shown in the viz, there's a negative relation between inactivity and sleep time, which we can use to market more activity means better sleep, of course backed with more data and scientific research"
   ]
  },
  {
   "cell_type": "markdown",
   "id": "60992ca2",
   "metadata": {
    "papermill": {
     "duration": 0.013311,
     "end_time": "2024-12-24T06:45:09.022900",
     "exception": false,
     "start_time": "2024-12-24T06:45:09.009589",
     "status": "completed"
    },
    "tags": []
   },
   "source": [
    "## Conclusion and Recommendation for Marketing Strategy"
   ]
  },
  {
   "cell_type": "markdown",
   "id": "f0597095",
   "metadata": {
    "papermill": {
     "duration": 0.012352,
     "end_time": "2024-12-24T06:45:09.047908",
     "exception": false,
     "start_time": "2024-12-24T06:45:09.035556",
     "status": "completed"
    },
    "tags": []
   },
   "source": [
    " Bellabeat has done a great job tapping into the growing interest in health and wellness, particularly among women. However, there’s an opportunity to take it further by focusing on specific aspects like high-intensity workouts, better sleep, and personalized notifications based on activity patterns.\n",
    "\n",
    "### Key Insights:\n",
    "\n",
    "**High-Intensity Workouts**: High-intensity workouts are effective for burning calories and improving sleep quality. Bellabeat could integrate these into the app as personalized routines or challenges, possibly collaborating with fitness influencers for more engagement.\n",
    "\n",
    "**Sleep and Activity Tracking**: Bellabeat’s ability to track both sleep and activity opens up opportunities to send personalized push notifications. Reminders to stay active during the day or engage in relaxation techniques before bed could enhance user experience.\n",
    "\n",
    "**Personalized Notifications**: Based on user data, push notifications can be used to guide users toward better habits, like reminding them to move or wind down before sleep. This helps keep users engaged and creates a sense of daily support.\n",
    "\n",
    "**Content Marketing and Community Engagement**: Sharing wellness tips, success stories, and expert advice can make Bellabeat more of a wellness partner, building a community around the brand. This can go beyond the product itself, encouraging deeper connections with users.\n",
    "\n",
    "**Strategic Partnerships**: Partnering with other fitness and wellness brands could increase visibility and attract a wider audience. Co-branded events or integrated services could strengthen Bellabeat’s position in the market.\n",
    "\n",
    "### Marketing Strategy Recommendations:\n",
    "\n",
    "* Introduce high-intensity workout plans and challenges within the app to cater to fitness-focused users.\n",
    "* Use data from sleep and activity tracking to send personalized reminders for staying active or relaxing before sleep.\n",
    "* Build a strong content strategy around wellness, with tips, podcasts, and user stories.\n",
    "* Foster partnerships with fitness brands to expand reach and offer users more value.\n",
    "* Continuously gather user feedback to refine and improve the app and overall experience.\n",
    "  \n",
    "By focusing on these areas, Bellabeat can build stronger connections with users, improve engagement, and position itself as a leader in wellness technology for women.\n",
    "\n"
   ]
  },
  {
   "cell_type": "markdown",
   "id": "9343a2bd",
   "metadata": {
    "papermill": {
     "duration": 0.012445,
     "end_time": "2024-12-24T06:45:09.072827",
     "exception": false,
     "start_time": "2024-12-24T06:45:09.060382",
     "status": "completed"
    },
    "tags": []
   },
   "source": [
    "#### Credit\n",
    "This work is inspired by the Kaggle capstone project by Anastasia Chebotina. You can view her project here: <https://www.kaggle.com/code/chebotinaa/bellabeat-case-study-with-r> . Her research on marketing strategies for wellness products and fitness apps served as a valuable reference in shaping my approach."
   ]
  }
 ],
 "metadata": {
  "kaggle": {
   "accelerator": "none",
   "dataSources": [
    {
     "datasetId": 1041311,
     "sourceId": 7746251,
     "sourceType": "datasetVersion"
    },
    {
     "datasetId": 6345202,
     "sourceId": 10257203,
     "sourceType": "datasetVersion"
    }
   ],
   "dockerImageVersionId": 30749,
   "isGpuEnabled": false,
   "isInternetEnabled": true,
   "language": "r",
   "sourceType": "notebook"
  },
  "kernelspec": {
   "display_name": "R",
   "language": "R",
   "name": "ir"
  },
  "language_info": {
   "codemirror_mode": "r",
   "file_extension": ".r",
   "mimetype": "text/x-r-source",
   "name": "R",
   "pygments_lexer": "r",
   "version": "4.4.0"
  },
  "papermill": {
   "default_parameters": {},
   "duration": 31.762405,
   "end_time": "2024-12-24T06:45:09.208715",
   "environment_variables": {},
   "exception": null,
   "input_path": "__notebook__.ipynb",
   "output_path": "__notebook__.ipynb",
   "parameters": {},
   "start_time": "2024-12-24T06:44:37.446310",
   "version": "2.6.0"
  }
 },
 "nbformat": 4,
 "nbformat_minor": 5
}
